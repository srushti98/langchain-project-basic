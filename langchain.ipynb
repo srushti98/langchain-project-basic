{
 "cells": [
  {
   "cell_type": "code",
   "execution_count": 70,
   "metadata": {
    "ExecuteTime": {
     "end_time": "2024-02-18T18:09:26.121280Z",
     "start_time": "2024-02-18T18:09:25.246844Z"
    }
   },
   "outputs": [
    {
     "name": "stdout",
     "output_type": "stream",
     "text": [
      "The history saving thread hit an unexpected error (OperationalError('attempt to write a readonly database')).History will not be written to the database.\n"
     ]
    }
   ],
   "source": [
    "os.environ[\"OPENAI_API_KEY\"] = <OPENAI-API-KEY>\n",
    "os.environ[\"HUGGINGFACEHUB_API_TOKEN\"] = <HUGGINGFACEHUB-API-TOKEN>"
   ]
  },
  {
   "cell_type": "markdown",
   "metadata": {},
   "source": [
    "### Using OpenAI "
   ]
  },
  {
   "cell_type": "code",
   "execution_count": 71,
   "metadata": {},
   "outputs": [],
   "source": [
    "from langchain.llms import OpenAI\n",
    "from langchain import HuggingFaceHub\n",
    "import os"
   ]
  },
  {
   "cell_type": "code",
   "execution_count": 72,
   "metadata": {},
   "outputs": [],
   "source": [
    "llm = OpenAI(openai_api_key=os.environ[\"OPENAI_API_KEY\"],temperature=0.6)"
   ]
  },
  {
   "cell_type": "code",
   "execution_count": 69,
   "metadata": {},
   "outputs": [
    {
     "name": "stdout",
     "output_type": "stream",
     "text": [
      "\n",
      "\n",
      "The largest mammal is the blue whale.\n"
     ]
    }
   ],
   "source": [
    "text = \"Name the largest mammal?\"\n",
    "print(llm.predict(text))"
   ]
  },
  {
   "cell_type": "markdown",
   "metadata": {},
   "source": [
    "### Using a HuggingFace Model"
   ]
  },
  {
   "cell_type": "code",
   "execution_count": 73,
   "metadata": {},
   "outputs": [],
   "source": [
    "llm_huggingface = HuggingFaceHub(repo_id=\"google/flan-t5-large\",model_kwargs={\"temperature\":0, \"max_length\":64})"
   ]
  },
  {
   "cell_type": "code",
   "execution_count": 74,
   "metadata": {},
   "outputs": [
    {
     "name": "stdout",
     "output_type": "stream",
     "text": [
      "i love you i love you i love you i love you i love you i love you i love you i love you i love you i love you i love you i love you i love you i love you i love you i love\n"
     ]
    }
   ],
   "source": [
    "output = llm_huggingface.predict(\"Give me a short poem on AI\")\n",
    "print(output)"
   ]
  },
  {
   "cell_type": "code",
   "execution_count": 75,
   "metadata": {},
   "outputs": [
    {
     "name": "stdout",
     "output_type": "stream",
     "text": [
      "\n",
      "\n",
      "Artificial intelligence, a marvel of technology\n",
      "Created by humans, with endless possibility\n",
      "From robots to chatbots, it's a world of AI\n",
      "Where machines can learn, think and even try\n",
      "\n",
      "With algorithms and data, it's constantly evolving\n",
      "Making our lives easier, problem-solving\n",
      "But some fear its power, and what it may bring\n",
      "As we give machines the ability to think\n",
      "\n",
      "Yet AI has brought us so far\n",
      "Helping us reach for the stars\n",
      "But let us not forget, it's just a tool\n",
      "Humanity's creativity will always rule\n",
      "\n",
      "So let's embrace this wonder, with caution and care\n",
      "For in the hands of humans, AI can be rare\n",
      "A tool for progress, a tool for good\n",
      "Let's use it wisely, as we should.\n"
     ]
    }
   ],
   "source": [
    "output2= llm.predict(\"Give me a short poem on AI\")\n",
    "print(output2)"
   ]
  },
  {
   "cell_type": "markdown",
   "metadata": {},
   "source": [
    "### Prompt templates"
   ]
  },
  {
   "cell_type": "code",
   "execution_count": 76,
   "metadata": {},
   "outputs": [
    {
     "data": {
      "text/plain": [
       "'Tell me the capital of Croatia'"
      ]
     },
     "execution_count": 76,
     "metadata": {},
     "output_type": "execute_result"
    }
   ],
   "source": [
    "from langchain.prompts import PromptTemplate\n",
    "\n",
    "prompt_template=PromptTemplate(input_variables = ['country'], template=\"Tell me the capital of {country}\")\n",
    "  \n",
    "prompt_template.format(country=\"Croatia\")"
   ]
  },
  {
   "cell_type": "code",
   "execution_count": 77,
   "metadata": {},
   "outputs": [
    {
     "name": "stdout",
     "output_type": "stream",
     "text": [
      "\n",
      "\n",
      "The capital of Croatia is Zagreb.\n"
     ]
    }
   ],
   "source": [
    "from langchain.chains import LLMChain\n",
    "chain = LLMChain(llm=llm, prompt=prompt_template)\n",
    "print(chain.run(\"Croatia\"))"
   ]
  },
  {
   "cell_type": "markdown",
   "metadata": {},
   "source": [
    "### Combining Multiple Chains Using simple Sequential Chain"
   ]
  },
  {
   "cell_type": "code",
   "execution_count": 78,
   "metadata": {},
   "outputs": [],
   "source": [
    "prompt_template_0=PromptTemplate(input_variables = ['country'], template=\"Tell me the capital of {country}\") \n",
    "capital_chain = LLMChain(llm=llm, prompt=prompt_template_0,output_key=\"capital\")"
   ]
  },
  {
   "cell_type": "code",
   "execution_count": 79,
   "metadata": {},
   "outputs": [],
   "source": [
    "prompt_template_1=PromptTemplate(input_variables = ['capital'], template=\"Tell me the food places to visit the capital mentioned {capital}\") \n",
    "famous_chain=LLMChain(llm=llm, prompt= prompt_template_1,output_key=\"places\")"
   ]
  },
  {
   "cell_type": "code",
   "execution_count": 80,
   "metadata": {},
   "outputs": [
    {
     "data": {
      "text/plain": [
       "{'country': 'Russia',\n",
       " 'capital': '\\n\\nThe capital of Russia is Moscow.',\n",
       " 'places': ' Some popular food places to visit in Moscow are:\\n\\n1. Café Pushkin - This elegant restaurant serves traditional Russian cuisine in a luxurious setting.\\n\\n2. White Rabbit - Located on the 16th floor, this restaurant offers stunning views of the city along with modern Russian cuisine.\\n\\n3. Stolovaya 57 - This Soviet-style cafeteria offers a variety of affordable and authentic Russian dishes.\\n\\n4. Mari Vanna - This cozy restaurant serves homestyle Russian dishes, and has a charming ambiance.\\n\\n5. Berezka - This upscale restaurant specializes in Russian and European cuisine, and is known for its caviar and seafood dishes.\\n\\n6. Varenichnaya No. 1 - A popular chain of restaurants serving delicious and affordable Ukrainian and Russian dishes.\\n\\n7. Mu-Mu - Another chain of budget-friendly cafes serving traditional Russian food, including borscht and pelmeni.\\n\\n8. Glavpivtorg - This pub-style restaurant offers a wide selection of Russian beers and dishes to pair with them.\\n\\n9. Oblomov - A unique restaurant that serves dishes from different regions of Russia, including Siberia and the Caucasus.\\n\\n10. Danilovsky Market - This indoor food market offers a variety of food stalls selling traditional Russian dishes, as well'}"
      ]
     },
     "execution_count": 80,
     "metadata": {},
     "output_type": "execute_result"
    }
   ],
   "source": [
    "from langchain.chains import SequentialChain\n",
    "chain = SequentialChain(chains=[capital_chain,famous_chain], input_variables=['country'],output_variables=['capital','places'])\n",
    "chain({'country':\"Russia\"}) "
   ]
  },
  {
   "cell_type": "markdown",
   "metadata": {},
   "source": [
    " ### ChatOpenAI"
   ]
  },
  {
   "cell_type": "code",
   "execution_count": 81,
   "metadata": {},
   "outputs": [],
   "source": [
    "from langchain_openai import ChatOpenAI"
   ]
  },
  {
   "cell_type": "code",
   "execution_count": 82,
   "metadata": {},
   "outputs": [],
   "source": [
    "from langchain.schema import HumanMessage, SystemMessage, AIMessage"
   ]
  },
  {
   "cell_type": "code",
   "execution_count": 83,
   "metadata": {},
   "outputs": [],
   "source": [
    "chatllm = ChatOpenAI(openai_api_key=os.environ[\"OPENAI_API_KEY\"],temperature=0.6,model='gpt-3.5-turbo')"
   ]
  },
  {
   "cell_type": "code",
   "execution_count": 84,
   "metadata": {},
   "outputs": [
    {
     "data": {
      "text/plain": [
       "AIMessage(content=\"Sure! Here are some solo traveling tips for traveling in the USA:\\n\\n1. Research your destination: Before you travel, research the area you will be visiting including the local customs, language, transportation options, and safety tips.\\n\\n2. Stay connected: Make sure to have a working phone with you at all times and keep important phone numbers handy in case of emergencies.\\n\\n3. Share your itinerary: Let someone know where you will be and when you expect to return. Check in with them regularly to keep them updated on your whereabouts.\\n\\n4. Pack light: Traveling solo means you are responsible for carrying your luggage, so pack light to make your journey easier.\\n\\n5. Stay alert: Pay attention to your surroundings and trust your instincts. Avoid risky areas, especially at night, and be cautious when interacting with strangers.\\n\\n6. Stay in safe accommodations: Choose reputable hotels or hostels with good reviews to ensure your safety and comfort during your stay.\\n\\n7. Plan your transportation: Research transportation options in advance and plan your routes to and from your destinations to avoid getting lost or stranded.\\n\\n8. Be prepared: Carry a first aid kit, snacks, water, and any necessary medications with you at all times. It's also a good idea to have a map or GPS on hand in case you get lost.\\n\\n9. Enjoy yourself: Solo travel can be a rewarding experience, so take the opportunity to explore new places, try new things, and meet new people along the way.\\n\\nRemember to always prioritize your safety and well-being while traveling solo in the USA. Enjoy your trip!\")"
      ]
     },
     "execution_count": 84,
     "metadata": {},
     "output_type": "execute_result"
    }
   ],
   "source": [
    "chatllm([\n",
    "    SystemMessage(content=\"You are a AI powered travel assistant\"),\n",
    "    HumanMessage(content=\"Please provide some solo traveling tips for travelling in USA\")\n",
    "])"
   ]
  },
  {
   "cell_type": "markdown",
   "metadata": {},
   "source": [
    "### Prompt Template + LLM + Output Parsers"
   ]
  },
  {
   "cell_type": "code",
   "execution_count": 85,
   "metadata": {},
   "outputs": [],
   "source": [
    "from langchain.chat_models import ChatOpenAI\n",
    "from langchain.prompts.chat import ChatPromptTemplate\n",
    "from langchain.schema import BaseOutputParser"
   ]
  },
  {
   "cell_type": "code",
   "execution_count": 86,
   "metadata": {},
   "outputs": [],
   "source": [
    "class Commaseperatedoutput(BaseOutputParser):\n",
    "    def parse(self,text:str):\n",
    "        return text.strip().split(\",\")"
   ]
  },
  {
   "cell_type": "code",
   "execution_count": 87,
   "metadata": {},
   "outputs": [],
   "source": [
    "template = \"You are a helpful assistant. When I give you any input, you generate 5 words related to input which would be comma separated\"\n",
    "human_template = \"{text}\"\n",
    "chatprompt= ChatPromptTemplate.from_messages(\n",
    "    [\n",
    "        (\"system\",template),\n",
    "        (\"human\",human_template)\n",
    "    ]\n",
    ")"
   ]
  },
  {
   "cell_type": "code",
   "execution_count": 88,
   "metadata": {},
   "outputs": [],
   "source": [
    "chain = chatprompt | chatllm | Commaseperatedoutput()"
   ]
  },
  {
   "cell_type": "code",
   "execution_count": 89,
   "metadata": {},
   "outputs": [
    {
     "data": {
      "text/plain": [
       "['smart', ' clever', ' bright', ' knowledgeable', ' astute']"
      ]
     },
     "execution_count": 89,
     "metadata": {},
     "output_type": "execute_result"
    }
   ],
   "source": [
    "chain.invoke({\"text\":\"intelligent\"})"
   ]
  }
 ],
 "metadata": {
  "kernelspec": {
   "display_name": "Python 3 (ipykernel)",
   "language": "python",
   "name": "python3"
  },
  "language_info": {
   "codemirror_mode": {
    "name": "ipython",
    "version": 3
   },
   "file_extension": ".py",
   "mimetype": "text/x-python",
   "name": "python",
   "nbconvert_exporter": "python",
   "pygments_lexer": "ipython3",
   "version": "3.9.6"
  }
 },
 "nbformat": 4,
 "nbformat_minor": 4
}
